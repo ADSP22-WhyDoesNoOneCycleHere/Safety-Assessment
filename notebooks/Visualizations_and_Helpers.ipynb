{
 "cells": [
  {
   "cell_type": "markdown",
   "source": [
    "### Run for starting calculation\n",
    "This is intended for starting the calculation from inside the docker container.\n",
    "The resulting csv-files can be downloaded from city_results in the src directory.\n",
    "This might take some time to work if you start the application for the first time as the db still needs to be imported."
   ],
   "metadata": {
    "collapsed": false,
    "pycharm": {
     "name": "#%% md\n"
    }
   }
  },
  {
   "cell_type": "code",
   "execution_count": null,
   "outputs": [],
   "source": [
    "!python /safety_assessment/src/app/main.py"
   ],
   "metadata": {
    "collapsed": false,
    "pycharm": {
     "name": "#%%\n"
    }
   }
  },
  {
   "cell_type": "markdown",
   "source": [
    "### Helper-functions for plotting results and analyzing results"
   ],
   "metadata": {
    "collapsed": false,
    "pycharm": {
     "name": "#%% md\n"
    }
   }
  },
  {
   "cell_type": "code",
   "execution_count": 132,
   "id": "6c5d2c57-2971-41f1-8649-9fdcc39d34c7",
   "metadata": {
    "pycharm": {
     "name": "#%%\n"
    }
   },
   "outputs": [],
   "source": [
    "import pandas as pd\n",
    "import numpy as np\n",
    "import matplotlib.pyplot as plt\n",
    "import math\n",
    "from functools import reduce\n",
    "\n",
    "# Load the infra-type results into a dataframe\n",
    "df = pd.read_csv(f\"../src/app/city_results/Stuttgart.csv\") # <-----------Change the csv to match the city you want to analyse \n",
    "\n",
    "#Clean-up\n",
    "df = df.drop(df[(df['avg_s_score'] < 0) | (df['avg_p_score'] < 0) | (df['avg_m_p_score'] < 0)].index)\n",
    "\n",
    "# Comment this line, if the area you are analysing does not have enough data; we found count > 1000 to yield better results for Berlin\n",
    "df = df.drop(df[df['count'] < 1000].index)\n",
    "    \n",
    "# Helper function for creating boxplots (one plot per infra-type) -> saves to .png in notebooks folder\n",
    "def boxplot_helper():\n",
    "    plt.rcParams[\"figure.figsize\"] = (5,5)\n",
    "    \n",
    "    fig, axs = plt.subplots()\n",
    "\n",
    "    data = [df['avg_p_score'], df['avg_s_score'], df['avg_m_p_score']]\n",
    "    \n",
    "    axs.boxplot(data)\n",
    "    axs.set_yticks(np.arange(0, 1.01, step=0.2))\n",
    "    axs.set_xticks(np.arange(0, 4, step=1))\n",
    "    axs.set_xticklabels(['', 'p-score', 's-score', 'm-p-score'], rotation=45)\n",
    "    \n",
    "    plt.savefig(f'Boxplots.png', bbox_inches='tight', dpi=100)\n",
    "    \n",
    "# Helper function for creating bar-plots of every infra-type for a specified score with an average\n",
    "def barplotWithAverage(score):\n",
    "    mean = round(df[score].mean(), 4)\n",
    "    \n",
    "    plt.rcParams[\"figure.figsize\"] = (10,15)\n",
    "    fig, ax = plt.subplots()\n",
    "    ax.barh(df.infra_type, df[score], align='center')\n",
    "    ax.axvline(mean, color='black', linestyle='--')\n",
    "    ax.set_yticks(df.infra_type)\n",
    "    ax.invert_yaxis()\n",
    "    ax.set_xticks(np.arange(0, 1.01, step=0.2))\n",
    "    ax.set_xlabel(score)\n",
    "    ax.annotate(f'Mean: {mean}', xy=(mean, 1), xytext=(-15, 15),\n",
    "               xycoords=('data', 'axes fraction'), textcoords='offset points',\n",
    "               horizontalalignment='right', verticalalignment='center', \n",
    "               arrowprops=dict(arrowstyle='-|>', fc='black', shrinkA=0, shrinkB=0,\n",
    "                            connectionstyle='angle,angleA=0,angleB=90,rad=10'),\n",
    "               )\n",
    "    \n",
    "    plt.savefig(f'{score}-Barplots_With_Mean.png', bbox_inches='tight', dpi=100)\n",
    "\n",
    "    \n",
    "# Helper for only diplaying barplots for select infra-types with an average\n",
    "def barplotSelectWithAverage(score, infra_types):\n",
    "    dfp = reduce(pd.DataFrame.append, map(lambda i: df[df.infra_type == i], infra_types))\n",
    "        \n",
    "    mean = round(df[score].mean(), 4)\n",
    "    \n",
    "    plt.rcParams[\"figure.figsize\"] = (5,7)\n",
    "    fig, ax = plt.subplots()\n",
    "    ax.barh(dfp.infra_type, dfp[score], align='center')\n",
    "    ax.axvline(mean, color='black', linestyle='--')\n",
    "    ax.set_yticks(dfp.infra_type)\n",
    "    ax.invert_yaxis()\n",
    "    ax.set_xticks(np.arange(0, 1.01, step=0.2))\n",
    "    ax.set_xlabel(score)\n",
    "    ax.annotate(f'Mean: {mean}', xy=(mean, 1), xytext=(-15, 15),\n",
    "               xycoords=('data', 'axes fraction'), textcoords='offset points',\n",
    "               horizontalalignment='right', verticalalignment='center', \n",
    "               arrowprops=dict(arrowstyle='-|>', fc='black', shrinkA=0, shrinkB=0,\n",
    "                            connectionstyle='angle,angleA=0,angleB=90,rad=10'),\n",
    "               )\n",
    "    \n",
    "    plt.savefig(f'{score}-{infra_types[0]}-Barplots_With_Mean.png', bbox_inches='tight', dpi=100)\n",
    "\n",
    "# Plots defined scores \n",
    "def curve2scores(score1, score2):\n",
    "    fig,ax= plt.subplots()\n",
    "    plt.rcParams[\"figure.figsize\"] = (50,20)\n",
    "    df3 = df.sort_values('infra_type')\n",
    "    plt.plot(df3.infra_type, df3[score1], c='r', label=score1)\n",
    "    plt.plot(df3.infra_type, df3[score2], c='b', label=score2)\n",
    "    plt.title(f'{score1} and {score2} per infra-type')\n",
    "    plt.legend(loc=\"lower left\", prop={'size': 40})\n",
    "    plt.xticks(rotation=90)\n",
    "    ax.set_yticks(np.arange(0, 1.01, step=0.2))\n",
    "    plt.savefig(f'{score1}_and_{score2}_Curves.png')\n",
    "\n",
    "# Returns the n largest infra_types for specified score\n",
    "def getNLargestInfraType(score, n):\n",
    "    return df.nlargest(n, score, keep='first').infra_type"
   ]
  },
  {
   "cell_type": "markdown",
   "source": [
    "### Examples"
   ],
   "metadata": {
    "collapsed": false,
    "pycharm": {
     "name": "#%% md\n"
    }
   }
  },
  {
   "cell_type": "code",
   "execution_count": null,
   "id": "f974d1f0-a574-4831-847f-237466ad630f",
   "metadata": {
    "pycharm": {
     "name": "#%%\n"
    }
   },
   "outputs": [],
   "source": [
    "print(df['avg_p_score'].corr(df['avg_s_score']))"
   ]
  },
  {
   "cell_type": "code",
   "execution_count": null,
   "id": "34d92947-10ee-4da9-9bac-27022405c12f",
   "metadata": {
    "pycharm": {
     "name": "#%%\n"
    }
   },
   "outputs": [],
   "source": [
    "print(getNLargestInfraType('avg_s_score', 3))"
   ]
  },
  {
   "cell_type": "code",
   "execution_count": null,
   "id": "066a6cce-2bbb-4238-93e2-fe6bafa63cc0",
   "metadata": {
    "pycharm": {
     "name": "#%%\n"
    }
   },
   "outputs": [],
   "source": [
    "boxplot_helper()"
   ]
  },
  {
   "cell_type": "code",
   "execution_count": null,
   "id": "3ec2e4d9-d8c7-43ad-9a44-a18ef8b783f4",
   "metadata": {
    "pycharm": {
     "name": "#%%\n"
    }
   },
   "outputs": [],
   "source": [
    "curve2scores('avg_p_score', 'avg_s_score')"
   ]
  },
  {
   "cell_type": "code",
   "execution_count": null,
   "id": "2a868d32-1659-40b8-8be6-20b7828b983b",
   "metadata": {
    "pycharm": {
     "name": "#%%\n"
    }
   },
   "outputs": [],
   "source": [
    "barplotWithAverage('avg_p_score')"
   ]
  },
  {
   "cell_type": "code",
   "execution_count": null,
   "id": "1e7eb129-29dd-4357-9db1-03d5627e28d1",
   "metadata": {
    "pycharm": {
     "name": "#%%\n"
    }
   },
   "outputs": [],
   "source": [
    "barplotSelectWithAverage('avg_p_score', \n",
    "                         ['[bicycle = designated][segregated = yes]',\n",
    "                          '[bicycle = designated][!segregated]',\n",
    "                         ])"
   ]
  }
 ],
 "metadata": {
  "kernelspec": {
   "display_name": "Python 3 (ipykernel)",
   "language": "python",
   "name": "python3"
  },
  "language_info": {
   "codemirror_mode": {
    "name": "ipython",
    "version": 3
   },
   "file_extension": ".py",
   "mimetype": "text/x-python",
   "name": "python",
   "nbconvert_exporter": "python",
   "pygments_lexer": "ipython3",
   "version": "3.10.5"
  }
 },
 "nbformat": 4,
 "nbformat_minor": 5
}